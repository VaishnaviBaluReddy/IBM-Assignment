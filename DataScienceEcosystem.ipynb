{
 "cells": [
  {
   "cell_type": "markdown",
   "id": "1b401655-0e6d-4b58-8677-a45cd1a1b3ba",
   "metadata": {},
   "source": [
    "# Data Science Tools and Ecosystem"
   ]
  },
  {
   "cell_type": "markdown",
   "id": "87814c82-5830-4a96-bb83-cab5be3f8732",
   "metadata": {},
   "source": [
    "In this notebook, Data Science Tools and Ecosystem are summarized."
   ]
  },
  {
   "cell_type": "markdown",
   "id": "1432096e-8200-4cae-aefd-a56ce7cb7346",
   "metadata": {},
   "source": [
    "**Objectives :**\n",
    "- Learn about the components of a Data Scientist's toolkit which includes: Libraries & Packages, Data Sets, Machine Learning Models, Kernels\n",
    "- Learn about the various Open source, commercial, Big Data and Cloud-based tools. \n",
    "- Work with Jupyter Notebooks, JupyterLab, RStudio IDE, Git, GitHub, and Watson Studio.\n"
   ]
  },
  {
   "cell_type": "markdown",
   "id": "5e1df34f-7641-4495-9d2b-d313bcd08015",
   "metadata": {},
   "source": [
    "Some of the popular languages that Data Scientists use are:\n",
    "1. Python\n",
    "2. R\n",
    "3. SQL\n",
    "4. Scala"
   ]
  },
  {
   "cell_type": "markdown",
   "id": "57d75821-09bd-4085-8e9c-d2ea08908976",
   "metadata": {},
   "source": [
    "Some of the commonly used libraries used by Data Scientists include:\n",
    "1. NumPy.\n",
    "2. Keras.\n",
    "3. Pandas.\n",
    "4. PyTorch.\n",
    "5. SciPy."
   ]
  },
  {
   "cell_type": "markdown",
   "id": "3175607f-8c97-4c19-b9fc-ee8b8542d7a5",
   "metadata": {
    "tags": []
   },
   "source": [
    "|Data Science Tools  |   \n",
    "|-----------         |  \n",
    "|Jupyter Noteboks    |  \n",
    "|Python              |   \n",
    "|MATLAB              | \n",
    "|Julia               |  "
   ]
  },
  {
   "cell_type": "markdown",
   "id": "3ae50b68-36ac-4cf6-b934-5dfe5e6a09c8",
   "metadata": {},
   "source": [
    "### Below are a few examples of evaluating arithmetic expressions in Python"
   ]
  },
  {
   "cell_type": "code",
   "execution_count": 4,
   "id": "5c89ed20-4d8e-45d8-8414-f98bfc5d5702",
   "metadata": {
    "tags": []
   },
   "outputs": [
    {
     "name": "stdout",
     "output_type": "stream",
     "text": [
      "17\n"
     ]
    }
   ],
   "source": [
    "# This a simple arithmetic expression to mutiply then add integers\n",
    "x = (3*4)+5\n",
    "print(x)"
   ]
  },
  {
   "cell_type": "code",
   "execution_count": 5,
   "id": "eac97994-b928-4c9d-872e-45bfb988ff28",
   "metadata": {
    "tags": []
   },
   "outputs": [
    {
     "name": "stdout",
     "output_type": "stream",
     "text": [
      "3.3333333333333335\n"
     ]
    }
   ],
   "source": [
    "# This will convert 200 minutes to hours by diving by 60\n",
    "hrs = 200/60\n",
    "print(hrs)"
   ]
  },
  {
   "cell_type": "markdown",
   "id": "5404abe0-7ebe-445e-86f0-12b762db014a",
   "metadata": {},
   "source": [
    "## Author\n",
    "Vaishnavi Balu Reddy"
   ]
  },
  {
   "cell_type": "code",
   "execution_count": null,
   "id": "5b8edcd6-bf09-4910-a7b4-c662b6197616",
   "metadata": {},
   "outputs": [],
   "source": []
  }
 ],
 "metadata": {
  "kernelspec": {
   "display_name": "Python 3 (ipykernel)",
   "language": "python",
   "name": "python3"
  },
  "language_info": {
   "codemirror_mode": {
    "name": "ipython",
    "version": 3
   },
   "file_extension": ".py",
   "mimetype": "text/x-python",
   "name": "python",
   "nbconvert_exporter": "python",
   "pygments_lexer": "ipython3",
   "version": "3.11.5"
  }
 },
 "nbformat": 4,
 "nbformat_minor": 5
}
